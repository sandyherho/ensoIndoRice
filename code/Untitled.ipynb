{
 "cells": [
  {
   "cell_type": "markdown",
   "metadata": {},
   "source": [
    "# DTW Algorithm"
   ]
  },
  {
   "cell_type": "markdown",
   "metadata": {},
   "source": [
    "1. Inputs: $$"
   ]
  },
  {
   "cell_type": "code",
   "execution_count": 3,
   "metadata": {},
   "outputs": [
    {
     "name": "stdout",
     "output_type": "stream",
     "text": [
      "DTW Minimum Path with minimum distance: 54.87\n"
     ]
    }
   ],
   "source": [
    "import numpy as np\n",
    "import pandas as pd\n",
    "import matplotlib.pyplot as plt\n",
    "from dtw import dtw,accelerated_dtw\n",
    "plt.style.use('ggplot')\n",
    "\n",
    "df = pd.read_csv('../data/new_dataset.csv', index_col='date', parse_dates=True)\n",
    "\n",
    "d1 = df['mei'].values\n",
    "d2 = df['scaled_yield_idx'].values\n",
    "\n",
    "d, cost_matrix, acc_cost_matrix, path = accelerated_dtw(d1, d2, dist='euclidean')\n",
    "print(f'DTW Minimum Path with minimum distance: {np.round(d,2)}');"
   ]
  },
  {
   "cell_type": "code",
   "execution_count": 5,
   "metadata": {},
   "outputs": [
    {
     "name": "stderr",
     "output_type": "stream",
     "text": [
      "<ipython-input-5-c5c36109e657>:1: RuntimeWarning: invalid value encountered in log\n",
      "  np.log(d1)\n"
     ]
    },
    {
     "data": {
      "text/plain": [
       "array([        nan,         nan, -1.0365769 ,         nan, -0.18352228,\n",
       "       -0.46720754,         nan,         nan, -0.06462741,         nan,\n",
       "               nan,  0.11169044,         nan,         nan,         nan,\n",
       "               nan, -0.34991215, -1.12162506, -1.36649173, -1.1819939 ,\n",
       "               nan, -0.03476399,  0.19816757,         nan,         nan,\n",
       "       -1.21234105,  0.31724087,         nan,         nan, -1.70558177,\n",
       "       -0.48748894,  0.14842001, -0.12594122, -0.68815964,         nan,\n",
       "               nan,  0.15486471, -1.1290715 ,         nan,         nan,\n",
       "               nan, -1.05220592, -1.77195684, -1.93102154,         nan,\n",
       "       -4.19970508,         nan,         nan,         nan,         nan,\n",
       "               nan,         nan,         nan,         nan,  0.24425251,\n",
       "       -0.79296752,         nan,         nan, -1.06662924])"
      ]
     },
     "execution_count": 5,
     "metadata": {},
     "output_type": "execute_result"
    }
   ],
   "source": [
    "np.log(d1)"
   ]
  },
  {
   "cell_type": "code",
   "execution_count": null,
   "metadata": {},
   "outputs": [],
   "source": []
  }
 ],
 "metadata": {
  "kernelspec": {
   "display_name": "Python 3",
   "language": "python",
   "name": "python3"
  },
  "language_info": {
   "codemirror_mode": {
    "name": "ipython",
    "version": 3
   },
   "file_extension": ".py",
   "mimetype": "text/x-python",
   "name": "python",
   "nbconvert_exporter": "python",
   "pygments_lexer": "ipython3",
   "version": "3.8.5"
  }
 },
 "nbformat": 4,
 "nbformat_minor": 4
}
